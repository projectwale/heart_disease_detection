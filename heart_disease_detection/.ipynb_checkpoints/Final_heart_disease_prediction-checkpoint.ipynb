{
 "cells": [
  {
   "cell_type": "code",
   "execution_count": 1,
   "id": "646adcca",
   "metadata": {},
   "outputs": [],
   "source": [
    "# !pip install numpy==1.20.* --user"
   ]
  },
  {
   "cell_type": "code",
   "execution_count": 1,
   "id": "ab00026f",
   "metadata": {
    "scrolled": true
   },
   "outputs": [],
   "source": [
    "from sklearn.ensemble import AdaBoostClassifier \n",
    "from sklearn.tree import DecisionTreeClassifier\n",
    "import pandas as pd\n",
    "from sklearn.ensemble import AdaBoostClassifier\n",
    "from sklearn.tree import DecisionTreeClassifier\n",
    "from sklearn import metrics\n",
    "from sklearn.tree import DecisionTreeClassifier\n",
    "from sklearn.model_selection import train_test_split\n",
    "from sklearn.metrics import roc_curve,roc_auc_score,f1_score\n",
    "from sklearn.ensemble import RandomForestClassifier\n",
    "from sklearn.metrics import confusion_matrix\n",
    "from sklearn.metrics import accuracy_score\n",
    "from sklearn.metrics import roc_curve\n",
    "from sklearn.metrics import f1_score\n",
    "from sklearn.metrics import precision_score,recall_score\n",
    "from sklearn.metrics import roc_auc_score,roc_curve\n",
    "import pandas as pd\n",
    "import numpy as np\n",
    "from sklearn.model_selection import train_test_split\n",
    "from sklearn.metrics import confusion_matrix\n",
    "import pickle\n",
    "from sklearn.preprocessing import LabelEncoder\n",
    "\n",
    "\n",
    "# Tuning\n",
    "from sklearn.model_selection import GridSearchCV\n",
    "\n",
    "# Feature Extraction\n",
    "from sklearn.feature_selection import RFE\n",
    "\n",
    "# Preprocessing\n",
    "from sklearn.preprocessing import MinMaxScaler, StandardScaler, Normalizer, Binarizer, LabelEncoder\n",
    "\n",
    "# Models\n",
    "from sklearn.discriminant_analysis import LinearDiscriminantAnalysis\n",
    "from sklearn.linear_model import LogisticRegression\n",
    "from sklearn.naive_bayes import GaussianNB\n",
    "from sklearn.svm import SVC\n",
    "from sklearn.neighbors import KNeighborsClassifier\n",
    "from sklearn.tree import DecisionTreeClassifier\n",
    "\n",
    "# Ensembles\n",
    "from sklearn.ensemble import RandomForestClassifier\n",
    "from sklearn.ensemble import BaggingClassifier\n",
    "from sklearn.ensemble import AdaBoostClassifier\n",
    "from sklearn.ensemble import GradientBoostingClassifier\n",
    "from sklearn.ensemble import ExtraTreesClassifier"
   ]
  },
  {
   "cell_type": "code",
   "execution_count": 3,
   "id": "510ef61d",
   "metadata": {},
   "outputs": [
    {
     "data": {
      "text/html": [
       "<div>\n",
       "<style scoped>\n",
       "    .dataframe tbody tr th:only-of-type {\n",
       "        vertical-align: middle;\n",
       "    }\n",
       "\n",
       "    .dataframe tbody tr th {\n",
       "        vertical-align: top;\n",
       "    }\n",
       "\n",
       "    .dataframe thead th {\n",
       "        text-align: right;\n",
       "    }\n",
       "</style>\n",
       "<table border=\"1\" class=\"dataframe\">\n",
       "  <thead>\n",
       "    <tr style=\"text-align: right;\">\n",
       "      <th></th>\n",
       "      <th>age</th>\n",
       "      <th>sex</th>\n",
       "      <th>cp</th>\n",
       "      <th>trestbps</th>\n",
       "      <th>chol</th>\n",
       "      <th>fbs</th>\n",
       "      <th>restecg</th>\n",
       "      <th>thalach</th>\n",
       "      <th>exang</th>\n",
       "      <th>oldpeak</th>\n",
       "      <th>slope</th>\n",
       "      <th>ca</th>\n",
       "      <th>thal</th>\n",
       "      <th>target</th>\n",
       "    </tr>\n",
       "  </thead>\n",
       "  <tbody>\n",
       "    <tr>\n",
       "      <th>0</th>\n",
       "      <td>52</td>\n",
       "      <td>1</td>\n",
       "      <td>0</td>\n",
       "      <td>125</td>\n",
       "      <td>212</td>\n",
       "      <td>0</td>\n",
       "      <td>1</td>\n",
       "      <td>168</td>\n",
       "      <td>0</td>\n",
       "      <td>1.0</td>\n",
       "      <td>2</td>\n",
       "      <td>2</td>\n",
       "      <td>3</td>\n",
       "      <td>0</td>\n",
       "    </tr>\n",
       "    <tr>\n",
       "      <th>1</th>\n",
       "      <td>53</td>\n",
       "      <td>1</td>\n",
       "      <td>0</td>\n",
       "      <td>140</td>\n",
       "      <td>203</td>\n",
       "      <td>1</td>\n",
       "      <td>0</td>\n",
       "      <td>155</td>\n",
       "      <td>1</td>\n",
       "      <td>3.1</td>\n",
       "      <td>0</td>\n",
       "      <td>0</td>\n",
       "      <td>3</td>\n",
       "      <td>0</td>\n",
       "    </tr>\n",
       "    <tr>\n",
       "      <th>2</th>\n",
       "      <td>70</td>\n",
       "      <td>1</td>\n",
       "      <td>0</td>\n",
       "      <td>145</td>\n",
       "      <td>174</td>\n",
       "      <td>0</td>\n",
       "      <td>1</td>\n",
       "      <td>125</td>\n",
       "      <td>1</td>\n",
       "      <td>2.6</td>\n",
       "      <td>0</td>\n",
       "      <td>0</td>\n",
       "      <td>3</td>\n",
       "      <td>0</td>\n",
       "    </tr>\n",
       "    <tr>\n",
       "      <th>3</th>\n",
       "      <td>61</td>\n",
       "      <td>1</td>\n",
       "      <td>0</td>\n",
       "      <td>148</td>\n",
       "      <td>203</td>\n",
       "      <td>0</td>\n",
       "      <td>1</td>\n",
       "      <td>161</td>\n",
       "      <td>0</td>\n",
       "      <td>0.0</td>\n",
       "      <td>2</td>\n",
       "      <td>1</td>\n",
       "      <td>3</td>\n",
       "      <td>0</td>\n",
       "    </tr>\n",
       "    <tr>\n",
       "      <th>4</th>\n",
       "      <td>62</td>\n",
       "      <td>0</td>\n",
       "      <td>0</td>\n",
       "      <td>138</td>\n",
       "      <td>294</td>\n",
       "      <td>1</td>\n",
       "      <td>1</td>\n",
       "      <td>106</td>\n",
       "      <td>0</td>\n",
       "      <td>1.9</td>\n",
       "      <td>1</td>\n",
       "      <td>3</td>\n",
       "      <td>2</td>\n",
       "      <td>0</td>\n",
       "    </tr>\n",
       "  </tbody>\n",
       "</table>\n",
       "</div>"
      ],
      "text/plain": [
       "   age  sex  cp  trestbps  chol  fbs  restecg  thalach  exang  oldpeak  slope  \\\n",
       "0   52    1   0       125   212    0        1      168      0      1.0      2   \n",
       "1   53    1   0       140   203    1        0      155      1      3.1      0   \n",
       "2   70    1   0       145   174    0        1      125      1      2.6      0   \n",
       "3   61    1   0       148   203    0        1      161      0      0.0      2   \n",
       "4   62    0   0       138   294    1        1      106      0      1.9      1   \n",
       "\n",
       "   ca  thal  target  \n",
       "0   2     3       0  \n",
       "1   0     3       0  \n",
       "2   0     3       0  \n",
       "3   1     3       0  \n",
       "4   3     2       0  "
      ]
     },
     "execution_count": 3,
     "metadata": {},
     "output_type": "execute_result"
    }
   ],
   "source": [
    "import pandas as pd\n",
    "from sklearn import preprocessing\n",
    "import numpy as np\n",
    "\n",
    "\n",
    "dff=pd.read_csv(\"dataset/heart.csv\",encoding ='latin1')\n",
    "dff.head()"
   ]
  },
  {
   "cell_type": "code",
   "execution_count": 4,
   "id": "c7302d3b",
   "metadata": {},
   "outputs": [
    {
     "data": {
      "text/html": [
       "<div>\n",
       "<style scoped>\n",
       "    .dataframe tbody tr th:only-of-type {\n",
       "        vertical-align: middle;\n",
       "    }\n",
       "\n",
       "    .dataframe tbody tr th {\n",
       "        vertical-align: top;\n",
       "    }\n",
       "\n",
       "    .dataframe thead th {\n",
       "        text-align: right;\n",
       "    }\n",
       "</style>\n",
       "<table border=\"1\" class=\"dataframe\">\n",
       "  <thead>\n",
       "    <tr style=\"text-align: right;\">\n",
       "      <th></th>\n",
       "      <th>age</th>\n",
       "      <th>sex</th>\n",
       "      <th>cp</th>\n",
       "      <th>thalach</th>\n",
       "      <th>thal</th>\n",
       "    </tr>\n",
       "  </thead>\n",
       "  <tbody>\n",
       "    <tr>\n",
       "      <th>0</th>\n",
       "      <td>52</td>\n",
       "      <td>1</td>\n",
       "      <td>0</td>\n",
       "      <td>168</td>\n",
       "      <td>3</td>\n",
       "    </tr>\n",
       "    <tr>\n",
       "      <th>1</th>\n",
       "      <td>53</td>\n",
       "      <td>1</td>\n",
       "      <td>0</td>\n",
       "      <td>155</td>\n",
       "      <td>3</td>\n",
       "    </tr>\n",
       "    <tr>\n",
       "      <th>2</th>\n",
       "      <td>70</td>\n",
       "      <td>1</td>\n",
       "      <td>0</td>\n",
       "      <td>125</td>\n",
       "      <td>3</td>\n",
       "    </tr>\n",
       "    <tr>\n",
       "      <th>3</th>\n",
       "      <td>61</td>\n",
       "      <td>1</td>\n",
       "      <td>0</td>\n",
       "      <td>161</td>\n",
       "      <td>3</td>\n",
       "    </tr>\n",
       "    <tr>\n",
       "      <th>4</th>\n",
       "      <td>62</td>\n",
       "      <td>0</td>\n",
       "      <td>0</td>\n",
       "      <td>106</td>\n",
       "      <td>2</td>\n",
       "    </tr>\n",
       "    <tr>\n",
       "      <th>...</th>\n",
       "      <td>...</td>\n",
       "      <td>...</td>\n",
       "      <td>...</td>\n",
       "      <td>...</td>\n",
       "      <td>...</td>\n",
       "    </tr>\n",
       "    <tr>\n",
       "      <th>1020</th>\n",
       "      <td>59</td>\n",
       "      <td>1</td>\n",
       "      <td>1</td>\n",
       "      <td>164</td>\n",
       "      <td>2</td>\n",
       "    </tr>\n",
       "    <tr>\n",
       "      <th>1021</th>\n",
       "      <td>60</td>\n",
       "      <td>1</td>\n",
       "      <td>0</td>\n",
       "      <td>141</td>\n",
       "      <td>3</td>\n",
       "    </tr>\n",
       "    <tr>\n",
       "      <th>1022</th>\n",
       "      <td>47</td>\n",
       "      <td>1</td>\n",
       "      <td>0</td>\n",
       "      <td>118</td>\n",
       "      <td>2</td>\n",
       "    </tr>\n",
       "    <tr>\n",
       "      <th>1023</th>\n",
       "      <td>50</td>\n",
       "      <td>0</td>\n",
       "      <td>0</td>\n",
       "      <td>159</td>\n",
       "      <td>2</td>\n",
       "    </tr>\n",
       "    <tr>\n",
       "      <th>1024</th>\n",
       "      <td>54</td>\n",
       "      <td>1</td>\n",
       "      <td>0</td>\n",
       "      <td>113</td>\n",
       "      <td>3</td>\n",
       "    </tr>\n",
       "  </tbody>\n",
       "</table>\n",
       "<p>1025 rows × 5 columns</p>\n",
       "</div>"
      ],
      "text/plain": [
       "      age  sex  cp  thalach  thal\n",
       "0      52    1   0      168     3\n",
       "1      53    1   0      155     3\n",
       "2      70    1   0      125     3\n",
       "3      61    1   0      161     3\n",
       "4      62    0   0      106     2\n",
       "...   ...  ...  ..      ...   ...\n",
       "1020   59    1   1      164     2\n",
       "1021   60    1   0      141     3\n",
       "1022   47    1   0      118     2\n",
       "1023   50    0   0      159     2\n",
       "1024   54    1   0      113     3\n",
       "\n",
       "[1025 rows x 5 columns]"
      ]
     },
     "execution_count": 4,
     "metadata": {},
     "output_type": "execute_result"
    }
   ],
   "source": [
    "df=dff[['age','sex','cp','thalach','thal']]\n",
    "df"
   ]
  },
  {
   "cell_type": "code",
   "execution_count": null,
   "id": "2c0a449b",
   "metadata": {},
   "outputs": [],
   "source": []
  },
  {
   "cell_type": "code",
   "execution_count": 5,
   "id": "b3f97b20",
   "metadata": {},
   "outputs": [],
   "source": [
    "x=df.drop(['thal'],axis=1)#independent\n",
    "y=df['thal']#dependent"
   ]
  },
  {
   "cell_type": "code",
   "execution_count": 6,
   "id": "c9769881",
   "metadata": {},
   "outputs": [
    {
     "data": {
      "text/html": [
       "<div>\n",
       "<style scoped>\n",
       "    .dataframe tbody tr th:only-of-type {\n",
       "        vertical-align: middle;\n",
       "    }\n",
       "\n",
       "    .dataframe tbody tr th {\n",
       "        vertical-align: top;\n",
       "    }\n",
       "\n",
       "    .dataframe thead th {\n",
       "        text-align: right;\n",
       "    }\n",
       "</style>\n",
       "<table border=\"1\" class=\"dataframe\">\n",
       "  <thead>\n",
       "    <tr style=\"text-align: right;\">\n",
       "      <th></th>\n",
       "      <th>age</th>\n",
       "      <th>sex</th>\n",
       "      <th>cp</th>\n",
       "      <th>thalach</th>\n",
       "    </tr>\n",
       "  </thead>\n",
       "  <tbody>\n",
       "    <tr>\n",
       "      <th>0</th>\n",
       "      <td>52</td>\n",
       "      <td>1</td>\n",
       "      <td>0</td>\n",
       "      <td>168</td>\n",
       "    </tr>\n",
       "    <tr>\n",
       "      <th>1</th>\n",
       "      <td>53</td>\n",
       "      <td>1</td>\n",
       "      <td>0</td>\n",
       "      <td>155</td>\n",
       "    </tr>\n",
       "    <tr>\n",
       "      <th>2</th>\n",
       "      <td>70</td>\n",
       "      <td>1</td>\n",
       "      <td>0</td>\n",
       "      <td>125</td>\n",
       "    </tr>\n",
       "    <tr>\n",
       "      <th>3</th>\n",
       "      <td>61</td>\n",
       "      <td>1</td>\n",
       "      <td>0</td>\n",
       "      <td>161</td>\n",
       "    </tr>\n",
       "    <tr>\n",
       "      <th>4</th>\n",
       "      <td>62</td>\n",
       "      <td>0</td>\n",
       "      <td>0</td>\n",
       "      <td>106</td>\n",
       "    </tr>\n",
       "    <tr>\n",
       "      <th>...</th>\n",
       "      <td>...</td>\n",
       "      <td>...</td>\n",
       "      <td>...</td>\n",
       "      <td>...</td>\n",
       "    </tr>\n",
       "    <tr>\n",
       "      <th>1020</th>\n",
       "      <td>59</td>\n",
       "      <td>1</td>\n",
       "      <td>1</td>\n",
       "      <td>164</td>\n",
       "    </tr>\n",
       "    <tr>\n",
       "      <th>1021</th>\n",
       "      <td>60</td>\n",
       "      <td>1</td>\n",
       "      <td>0</td>\n",
       "      <td>141</td>\n",
       "    </tr>\n",
       "    <tr>\n",
       "      <th>1022</th>\n",
       "      <td>47</td>\n",
       "      <td>1</td>\n",
       "      <td>0</td>\n",
       "      <td>118</td>\n",
       "    </tr>\n",
       "    <tr>\n",
       "      <th>1023</th>\n",
       "      <td>50</td>\n",
       "      <td>0</td>\n",
       "      <td>0</td>\n",
       "      <td>159</td>\n",
       "    </tr>\n",
       "    <tr>\n",
       "      <th>1024</th>\n",
       "      <td>54</td>\n",
       "      <td>1</td>\n",
       "      <td>0</td>\n",
       "      <td>113</td>\n",
       "    </tr>\n",
       "  </tbody>\n",
       "</table>\n",
       "<p>1025 rows × 4 columns</p>\n",
       "</div>"
      ],
      "text/plain": [
       "      age  sex  cp  thalach\n",
       "0      52    1   0      168\n",
       "1      53    1   0      155\n",
       "2      70    1   0      125\n",
       "3      61    1   0      161\n",
       "4      62    0   0      106\n",
       "...   ...  ...  ..      ...\n",
       "1020   59    1   1      164\n",
       "1021   60    1   0      141\n",
       "1022   47    1   0      118\n",
       "1023   50    0   0      159\n",
       "1024   54    1   0      113\n",
       "\n",
       "[1025 rows x 4 columns]"
      ]
     },
     "execution_count": 6,
     "metadata": {},
     "output_type": "execute_result"
    }
   ],
   "source": [
    "x"
   ]
  },
  {
   "cell_type": "code",
   "execution_count": 7,
   "id": "ab73ef02",
   "metadata": {},
   "outputs": [],
   "source": [
    "x_train,x_test , y_train, y_test = train_test_split(x, y,test_size=0.1)"
   ]
  },
  {
   "cell_type": "code",
   "execution_count": 8,
   "id": "0a3c03b0",
   "metadata": {},
   "outputs": [
    {
     "name": "stdout",
     "output_type": "stream",
     "text": [
      "x_train shape:  (922, 4)\n",
      "x_test shape:  (103, 4)\n",
      "y_train shape:  (922,)\n",
      "y_test shape:  (103,)\n"
     ]
    }
   ],
   "source": [
    "print(\"x_train shape: \",x_train.shape)\n",
    "print(\"x_test shape: \",x_test.shape)\n",
    "print(\"y_train shape: \",y_train.shape)\n",
    "print(\"y_test shape: \",y_test.shape)"
   ]
  },
  {
   "cell_type": "code",
   "execution_count": 14,
   "id": "4601ec54",
   "metadata": {},
   "outputs": [],
   "source": [
    "import pandas as pd\n",
    "import numpy as np\n",
    "import seaborn as sns\n",
    "from sklearn.cluster import KMeans\n",
    "from sklearn.preprocessing import LabelEncoder\n",
    "from sklearn.linear_model import LogisticRegression\n",
    "import matplotlib.pyplot as plt\n",
    "from sklearn.model_selection import train_test_split\n",
    "from sklearn.metrics import accuracy_score\n",
    "from sklearn.linear_model import LinearRegression\n",
    "from sklearn.metrics import classification_report"
   ]
  },
  {
   "cell_type": "markdown",
   "id": "daf511bd",
   "metadata": {},
   "source": [
    "# Logistic Regression¶ "
   ]
  },
  {
   "cell_type": "code",
   "execution_count": 15,
   "id": "71233a2c",
   "metadata": {},
   "outputs": [
    {
     "name": "stdout",
     "output_type": "stream",
     "text": [
      "The accuracy score achieved using Logistic Regression is: 66.02 %\n"
     ]
    }
   ],
   "source": [
    "from sklearn.linear_model import LogisticRegression\n",
    "\n",
    "lr = LogisticRegression(solver='liblinear')\n",
    "\n",
    "\n",
    "lr.fit(x_train,y_train)#train model\n",
    "\n",
    "Y_pred_lr = lr.predict(x_test)\n",
    "\n",
    "score_lr = round(accuracy_score(Y_pred_lr,y_test)*100,2)\n",
    "\n",
    "print(\"The accuracy score achieved using Logistic Regression is: \"+str(score_lr)+\" %\")"
   ]
  },
  {
   "cell_type": "code",
   "execution_count": 16,
   "id": "e3456aa3",
   "metadata": {},
   "outputs": [
    {
     "name": "stdout",
     "output_type": "stream",
     "text": [
      "              precision    recall  f1-score   support\n",
      "\n",
      "           0       0.00      0.00      0.00         1\n",
      "           1       0.00      0.00      0.00         6\n",
      "           2       0.65      0.82      0.72        49\n",
      "           3       0.68      0.60      0.64        47\n",
      "\n",
      "    accuracy                           0.66       103\n",
      "   macro avg       0.33      0.35      0.34       103\n",
      "weighted avg       0.62      0.66      0.63       103\n",
      "\n"
     ]
    },
    {
     "name": "stderr",
     "output_type": "stream",
     "text": [
      "C:\\Users\\yashs\\anaconda3\\envs\\project\\lib\\site-packages\\sklearn\\metrics\\_classification.py:1221: UndefinedMetricWarning: Precision and F-score are ill-defined and being set to 0.0 in labels with no predicted samples. Use `zero_division` parameter to control this behavior.\n",
      "  _warn_prf(average, modifier, msg_start, len(result))\n"
     ]
    },
    {
     "data": {
      "text/plain": [
       "<AxesSubplot: title={'center': 'Logistic_Regression'}>"
      ]
     },
     "execution_count": 16,
     "metadata": {},
     "output_type": "execute_result"
    },
    {
     "data": {
      "image/png": "[encoded data removed]",
      "text/plain": [
       "<Figure size 640x480 with 1 Axes>"
      ]
     },
     "metadata": {},
     "output_type": "display_data"
    }
   ],
   "source": [
    "import matplotlib.pyplot as plt\n",
    "import seaborn as sns\n",
    "\n",
    "print(classification_report(y_test,Y_pred_lr))\n",
    "lr_cm=confusion_matrix(y_test,Y_pred_lr)\n",
    "plt.title(\"Logistic_Regression\")\n",
    "sns.heatmap(lr_cm,annot=True,cmap=\"Blues\",fmt=\"d\",cbar=False)"
   ]
  },
  {
   "cell_type": "code",
   "execution_count": 17,
   "id": "f43bc1bf",
   "metadata": {},
   "outputs": [],
   "source": [
    "# import pickle\n",
    "# with open('model_MPH_LR_newest.sav','wb') as f:\n",
    "#     pickle.dump(lr,f)"
   ]
  },
  {
   "cell_type": "markdown",
   "id": "18d9501e",
   "metadata": {},
   "source": [
    "# SVM Linear "
   ]
  },
  {
   "cell_type": "code",
   "execution_count": 18,
   "id": "8d38a16d",
   "metadata": {},
   "outputs": [
    {
     "name": "stdout",
     "output_type": "stream",
     "text": [
      "The accuracy score achieved using Linear SVM is: 65.05 %\n"
     ]
    }
   ],
   "source": [
    "from sklearn import svm\n",
    "\n",
    "sv = svm.SVC(kernel='linear')\n",
    "\n",
    "sv.fit(x_train, y_train)\n",
    "\n",
    "Y_pred_svm = sv.predict(x_test)\n",
    "score_svm = round(accuracy_score(Y_pred_svm,y_test)*100,2)\n",
    "\n",
    "print(\"The accuracy score achieved using Linear SVM is: \"+str(score_svm)+\" %\")"
   ]
  },
  {
   "cell_type": "code",
   "execution_count": 19,
   "id": "84e0089b",
   "metadata": {},
   "outputs": [
    {
     "name": "stdout",
     "output_type": "stream",
     "text": [
      "              precision    recall  f1-score   support\n",
      "\n",
      "           0       0.00      0.00      0.00         1\n",
      "           1       0.00      0.00      0.00         6\n",
      "           2       0.64      0.80      0.71        49\n",
      "           3       0.67      0.60      0.63        47\n",
      "\n",
      "    accuracy                           0.65       103\n",
      "   macro avg       0.33      0.35      0.33       103\n",
      "weighted avg       0.61      0.65      0.62       103\n",
      "\n"
     ]
    },
    {
     "name": "stderr",
     "output_type": "stream",
     "text": [
      "C:\\Users\\yashs\\anaconda3\\envs\\project\\lib\\site-packages\\sklearn\\metrics\\_classification.py:1221: UndefinedMetricWarning: Precision and F-score are ill-defined and being set to 0.0 in labels with no predicted samples. Use `zero_division` parameter to control this behavior.\n",
      "  _warn_prf(average, modifier, msg_start, len(result))\n"
     ]
    },
    {
     "data": {
      "text/plain": [
       "<AxesSubplot: title={'center': 'SVM'}>"
      ]
     },
     "execution_count": 19,
     "metadata": {},
     "output_type": "execute_result"
    },
    {
     "data": {
      "image/png": "[encoded data removed]",
      "text/plain": [
       "<Figure size 640x480 with 1 Axes>"
      ]
     },
     "metadata": {},
     "output_type": "display_data"
    }
   ],
   "source": [
    "print(classification_report(y_test,Y_pred_svm))\n",
    "\n",
    "lr_cm=confusion_matrix(y_test,Y_pred_svm)\n",
    "plt.title(\"SVM\")\n",
    "sns.heatmap(lr_cm,annot=True,cmap=\"Blues\",fmt=\"d\",cbar=False)"
   ]
  },
  {
   "cell_type": "markdown",
   "id": "dbc3fc80",
   "metadata": {},
   "source": [
    "# Naive Bayes "
   ]
  },
  {
   "cell_type": "code",
   "execution_count": 20,
   "id": "e31a4983",
   "metadata": {},
   "outputs": [
    {
     "name": "stdout",
     "output_type": "stream",
     "text": [
      "The accuracy score achieved using Naive Bayes is: 65.05 %\n"
     ]
    }
   ],
   "source": [
    "from sklearn.naive_bayes import GaussianNB\n",
    "\n",
    "nb = GaussianNB()\n",
    "\n",
    "nb.fit(x_train,y_train)\n",
    "\n",
    "Y_pred_nb = nb.predict(x_test)\n",
    "\n",
    "score_nb = round(accuracy_score(Y_pred_nb,y_test)*100,2)\n",
    "\n",
    "print(\"The accuracy score achieved using Naive Bayes is: \"+str(score_nb)+\" %\")"
   ]
  },
  {
   "cell_type": "code",
   "execution_count": 21,
   "id": "e9914122",
   "metadata": {},
   "outputs": [
    {
     "name": "stdout",
     "output_type": "stream",
     "text": [
      "              precision    recall  f1-score   support\n",
      "\n",
      "           0       0.00      0.00      0.00         1\n",
      "           1       0.00      0.00      0.00         6\n",
      "           2       0.63      0.82      0.71        49\n",
      "           3       0.68      0.57      0.62        47\n",
      "\n",
      "    accuracy                           0.65       103\n",
      "   macro avg       0.33      0.35      0.33       103\n",
      "weighted avg       0.61      0.65      0.62       103\n",
      "\n"
     ]
    },
    {
     "name": "stderr",
     "output_type": "stream",
     "text": [
      "C:\\Users\\yashs\\anaconda3\\envs\\project\\lib\\site-packages\\sklearn\\metrics\\_classification.py:1221: UndefinedMetricWarning: Precision and F-score are ill-defined and being set to 0.0 in labels with no predicted samples. Use `zero_division` parameter to control this behavior.\n",
      "  _warn_prf(average, modifier, msg_start, len(result))\n"
     ]
    },
    {
     "data": {
      "text/plain": [
       "<AxesSubplot: title={'center': 'Naive Bayes'}>"
      ]
     },
     "execution_count": 21,
     "metadata": {},
     "output_type": "execute_result"
    },
    {
     "data": {
      "image/png": "[encoded data removed]",
      "text/plain": [
       "<Figure size 640x480 with 1 Axes>"
      ]
     },
     "metadata": {},
     "output_type": "display_data"
    }
   ],
   "source": [
    "print(classification_report(y_test,Y_pred_nb))\n",
    "\n",
    "lr_cm=confusion_matrix(y_test,Y_pred_nb)\n",
    "plt.title(\"Naive Bayes\")\n",
    "sns.heatmap(lr_cm,annot=True,cmap=\"Blues\",fmt=\"d\",cbar=False)"
   ]
  },
  {
   "cell_type": "markdown",
   "id": "e1401ea4",
   "metadata": {},
   "source": [
    "# Decision Tree "
   ]
  },
  {
   "cell_type": "code",
   "execution_count": 22,
   "id": "962bca4c",
   "metadata": {},
   "outputs": [
    {
     "name": "stdout",
     "output_type": "stream",
     "text": [
      "The accuracy score achieved using Decision Tree is: 99.03 %\n"
     ]
    }
   ],
   "source": [
    "dt=DecisionTreeClassifier()\n",
    "dt.fit(x_train,y_train)\n",
    "Y_pred_dt = dt.predict(x_test)\n",
    "score_dt = round(accuracy_score(Y_pred_dt,y_test)*100,2)\n",
    "\n",
    "print(\"The accuracy score achieved using Decision Tree is: \"+str(score_dt)+\" %\")"
   ]
  },
  {
   "cell_type": "code",
   "execution_count": 23,
   "id": "95289b37",
   "metadata": {},
   "outputs": [
    {
     "name": "stdout",
     "output_type": "stream",
     "text": [
      "              precision    recall  f1-score   support\n",
      "\n",
      "           0       1.00      1.00      1.00         1\n",
      "           1       1.00      1.00      1.00         6\n",
      "           2       0.98      1.00      0.99        49\n",
      "           3       1.00      0.98      0.99        47\n",
      "\n",
      "    accuracy                           0.99       103\n",
      "   macro avg       0.99      0.99      0.99       103\n",
      "weighted avg       0.99      0.99      0.99       103\n",
      "\n"
     ]
    },
    {
     "data": {
      "text/plain": [
       "<AxesSubplot: title={'center': 'Decision Tree'}>"
      ]
     },
     "execution_count": 23,
     "metadata": {},
     "output_type": "execute_result"
    },
    {
     "data": {
      "image/png": "[encoded data removed]",
      "text/plain": [
       "<Figure size 640x480 with 1 Axes>"
      ]
     },
     "metadata": {},
     "output_type": "display_data"
    }
   ],
   "source": [
    "print(classification_report(y_test,Y_pred_dt))\n",
    "\n",
    "lr_cm=confusion_matrix(y_test,Y_pred_dt)\n",
    "plt.title(\"Decision Tree\")\n",
    "sns.heatmap(lr_cm,annot=True,cmap=\"Blues\",fmt=\"d\",cbar=False)"
   ]
  },
  {
   "cell_type": "markdown",
   "id": "1f4899dc",
   "metadata": {},
   "source": [
    "# Random Forest "
   ]
  },
  {
   "cell_type": "code",
   "execution_count": 24,
   "id": "cca949fa",
   "metadata": {},
   "outputs": [
    {
     "name": "stdout",
     "output_type": "stream",
     "text": [
      "building tree 1 of 10building tree 2 of 10\n",
      "\n",
      "building tree 3 of 10\n",
      "building tree 4 of 10\n",
      "building tree 5 of 10\n",
      "building tree 6 of 10\n",
      "building tree 7 of 10\n",
      "building tree 8 of 10\n",
      "building tree 9 of 10\n",
      "building tree 10 of 10\n",
      "The accuracy score achieved using Random Forest is: 97.09 %\n"
     ]
    },
    {
     "name": "stderr",
     "output_type": "stream",
     "text": [
      "[Parallel(n_jobs=2)]: Using backend ThreadingBackend with 2 concurrent workers.\n",
      "[Parallel(n_jobs=2)]: Done  10 out of  10 | elapsed:    0.0s finished\n",
      "[Parallel(n_jobs=2)]: Using backend ThreadingBackend with 2 concurrent workers.\n",
      "[Parallel(n_jobs=2)]: Done  10 out of  10 | elapsed:    0.0s finished\n",
      "[Parallel(n_jobs=2)]: Using backend ThreadingBackend with 2 concurrent workers.\n",
      "[Parallel(n_jobs=2)]: Done  10 out of  10 | elapsed:    0.0s finished\n"
     ]
    }
   ],
   "source": [
    "rfc=RandomForestClassifier(n_estimators=10,n_jobs=2,verbose=2)\n",
    "rfc.fit(x_train,y_train)\n",
    "score_rf=rfc.score(x_test,y_test)\n",
    "Y_pred_rf = rfc.predict(x_test)\n",
    "score_rf=round(accuracy_score(Y_pred_rf,y_test)*100,2)\n",
    "\n",
    "print(\"The accuracy score achieved using Random Forest is: \"+str(score_rf)+\" %\")"
   ]
  },
  {
   "cell_type": "code",
   "execution_count": 57,
   "id": "e0f0a641",
   "metadata": {},
   "outputs": [],
   "source": [
    "import pickle\n",
    "with open('RandomForest_pickle', 'wb') as f:\n",
    "    pickle.dump(rfc,f)\n",
    "    \n",
    "if __name__=='__main__':\n",
    "    with open('RandomForest_pickle', 'rb') as f:\n",
    "        rfc_users = pickle.load(f)"
   ]
  },
  {
   "cell_type": "code",
   "execution_count": 25,
   "id": "22c5ead9",
   "metadata": {},
   "outputs": [
    {
     "name": "stdout",
     "output_type": "stream",
     "text": [
      "              precision    recall  f1-score   support\n",
      "\n",
      "           0       1.00      1.00      1.00         1\n",
      "           1       1.00      1.00      1.00         6\n",
      "           2       0.98      1.00      0.99        49\n",
      "           3       1.00      0.98      0.99        47\n",
      "\n",
      "    accuracy                           0.99       103\n",
      "   macro avg       0.99      0.99      0.99       103\n",
      "weighted avg       0.99      0.99      0.99       103\n",
      "\n"
     ]
    },
    {
     "data": {
      "text/plain": [
       "<AxesSubplot: title={'center': 'Random Forest'}>"
      ]
     },
     "execution_count": 25,
     "metadata": {},
     "output_type": "execute_result"
    },
    {
     "data": {
      "image/png": "[encoded data removed]",
      "text/plain": [
       "<Figure size 640x480 with 1 Axes>"
      ]
     },
     "metadata": {},
     "output_type": "display_data"
    }
   ],
   "source": [
    "print(classification_report(y_test,Y_pred_dt))\n",
    "\n",
    "lr_cm=confusion_matrix(y_test,Y_pred_dt)\n",
    "plt.title(\"Random Forest\")\n",
    "sns.heatmap(lr_cm,annot=True,cmap=\"Blues\",fmt=\"d\",cbar=False)"
   ]
  },
  {
   "cell_type": "markdown",
   "id": "fd8d2c29",
   "metadata": {},
   "source": [
    "# ADA Boost "
   ]
  },
  {
   "cell_type": "code",
   "execution_count": 26,
   "id": "2e69a978",
   "metadata": {},
   "outputs": [],
   "source": [
    "ada = AdaBoostClassifier(DecisionTreeClassifier(max_depth=9),n_estimators=150)\n",
    "ada.fit(x_train, y_train)\n",
    "\n",
    "ada.score(x_test,y_test)\n",
    "predictions = ada.predict(x_test)"
   ]
  },
  {
   "cell_type": "code",
   "execution_count": 27,
   "id": "9f264701",
   "metadata": {},
   "outputs": [
    {
     "name": "stdout",
     "output_type": "stream",
     "text": [
      "The accuracy score achieved using Ada Boost is: 99.03 %\n"
     ]
    }
   ],
   "source": [
    "score_ada = round(accuracy_score(predictions,y_test)*100,2)\n",
    "\n",
    "print(\"The accuracy score achieved using Ada Boost is: \"+str(score_ada)+\" %\")"
   ]
  },
  {
   "cell_type": "code",
   "execution_count": 56,
   "id": "20624cca",
   "metadata": {},
   "outputs": [],
   "source": [
    "import pickle\n",
    "with open('AdaBoost_pickle', 'wb') as f:\n",
    "    pickle.dump(ada,f)\n",
    "    \n",
    "if __name__=='__main__':\n",
    "    with open('AdaBoost_pickle', 'rb') as f:\n",
    "        ada_users = pickle.load(f)"
   ]
  },
  {
   "cell_type": "code",
   "execution_count": 28,
   "id": "21e9b369",
   "metadata": {},
   "outputs": [
    {
     "name": "stdout",
     "output_type": "stream",
     "text": [
      "              precision    recall  f1-score   support\n",
      "\n",
      "           0       1.00      1.00      1.00         1\n",
      "           1       1.00      1.00      1.00         6\n",
      "           2       0.98      1.00      0.99        49\n",
      "           3       1.00      0.98      0.99        47\n",
      "\n",
      "    accuracy                           0.99       103\n",
      "   macro avg       0.99      0.99      0.99       103\n",
      "weighted avg       0.99      0.99      0.99       103\n",
      "\n"
     ]
    },
    {
     "data": {
      "text/plain": [
       "<AxesSubplot: title={'center': 'ADA Boost'}>"
      ]
     },
     "execution_count": 28,
     "metadata": {},
     "output_type": "execute_result"
    },
    {
     "data": {
      "image/png": "[encoded data removed]",
      "text/plain": [
       "<Figure size 640x480 with 1 Axes>"
      ]
     },
     "metadata": {},
     "output_type": "display_data"
    }
   ],
   "source": [
    "print(classification_report(y_test,predictions))\n",
    "\n",
    "lr_cm=confusion_matrix(y_test,predictions)\n",
    "plt.title(\"ADA Boost\")\n",
    "sns.heatmap(lr_cm,annot=True,cmap=\"Blues\",fmt=\"d\",cbar=False)"
   ]
  },
  {
   "cell_type": "markdown",
   "id": "48a40eb2",
   "metadata": {},
   "source": [
    "# Linear Discriminant Analysis "
   ]
  },
  {
   "cell_type": "code",
   "execution_count": 29,
   "id": "244af11f",
   "metadata": {},
   "outputs": [
    {
     "name": "stdout",
     "output_type": "stream",
     "text": [
      "The accuracy score achieved using Linear Discriminant Analysis is: 66.02 %\n"
     ]
    }
   ],
   "source": [
    "model = LinearDiscriminantAnalysis()\n",
    "model.fit(x_train, y_train)\n",
    "\n",
    "model.score(x_test,y_test)\n",
    "LDA_predictions = model.predict(x_test)\n",
    "\n",
    "\n",
    "score_LDA=round(accuracy_score(LDA_predictions,y_test)*100,2)\n",
    "\n",
    "print(\"The accuracy score achieved using Linear Discriminant Analysis is: \"+str(score_LDA)+\" %\")"
   ]
  },
  {
   "cell_type": "code",
   "execution_count": 30,
   "id": "3c76863c",
   "metadata": {},
   "outputs": [
    {
     "name": "stdout",
     "output_type": "stream",
     "text": [
      "              precision    recall  f1-score   support\n",
      "\n",
      "           0       0.00      0.00      0.00         1\n",
      "           1       0.00      0.00      0.00         6\n",
      "           2       0.65      0.82      0.72        49\n",
      "           3       0.68      0.60      0.64        47\n",
      "\n",
      "    accuracy                           0.66       103\n",
      "   macro avg       0.33      0.35      0.34       103\n",
      "weighted avg       0.62      0.66      0.63       103\n",
      "\n"
     ]
    },
    {
     "name": "stderr",
     "output_type": "stream",
     "text": [
      "C:\\Users\\yashs\\anaconda3\\envs\\project\\lib\\site-packages\\sklearn\\metrics\\_classification.py:1221: UndefinedMetricWarning: Precision and F-score are ill-defined and being set to 0.0 in labels with no predicted samples. Use `zero_division` parameter to control this behavior.\n",
      "  _warn_prf(average, modifier, msg_start, len(result))\n"
     ]
    },
    {
     "data": {
      "text/plain": [
       "<AxesSubplot: title={'center': 'Linear Discriminant Analysis'}>"
      ]
     },
     "execution_count": 30,
     "metadata": {},
     "output_type": "execute_result"
    },
    {
     "data": {
      "image/png": "[encoded data removed]",
      "text/plain": [
       "<Figure size 640x480 with 1 Axes>"
      ]
     },
     "metadata": {},
     "output_type": "display_data"
    }
   ],
   "source": [
    "print(classification_report(y_test,LDA_predictions))\n",
    "\n",
    "lr_cm=confusion_matrix(y_test,LDA_predictions)\n",
    "plt.title(\"Linear Discriminant Analysis\")\n",
    "sns.heatmap(lr_cm,annot=True,cmap=\"Blues\",fmt=\"d\",cbar=False)"
   ]
  },
  {
   "cell_type": "markdown",
   "id": "de42d0f4",
   "metadata": {},
   "source": [
    "# KNeighbors Classifier "
   ]
  },
  {
   "cell_type": "code",
   "execution_count": 31,
   "id": "f0e46ca4",
   "metadata": {},
   "outputs": [
    {
     "name": "stdout",
     "output_type": "stream",
     "text": [
      "The accuracy score achieved using KNeighbors Classifier is: 69.9 %\n"
     ]
    }
   ],
   "source": [
    "KNC = KNeighborsClassifier()\n",
    "KNC.fit(x_train, y_train)\n",
    "\n",
    "KNC_predictions = KNC.predict(x_test)\n",
    "\n",
    "\n",
    "score_KNC=round(accuracy_score(KNC_predictions,y_test)*100,2)\n",
    "\n",
    "print(\"The accuracy score achieved using KNeighbors Classifier is: \"+str(score_KNC)+\" %\")"
   ]
  },
  {
   "cell_type": "code",
   "execution_count": 32,
   "id": "55f8bc31",
   "metadata": {},
   "outputs": [
    {
     "name": "stdout",
     "output_type": "stream",
     "text": [
      "              precision    recall  f1-score   support\n",
      "\n",
      "           0       1.00      1.00      1.00         1\n",
      "           1       0.62      0.83      0.71         6\n",
      "           2       0.69      0.82      0.75        49\n",
      "           3       0.72      0.55      0.63        47\n",
      "\n",
      "    accuracy                           0.70       103\n",
      "   macro avg       0.76      0.80      0.77       103\n",
      "weighted avg       0.70      0.70      0.69       103\n",
      "\n"
     ]
    },
    {
     "data": {
      "text/plain": [
       "<AxesSubplot: title={'center': 'KNeighbors Classifier'}>"
      ]
     },
     "execution_count": 32,
     "metadata": {},
     "output_type": "execute_result"
    },
    {
     "data": {
      "image/png": "[encoded data removed]",
      "text/plain": [
       "<Figure size 640x480 with 1 Axes>"
      ]
     },
     "metadata": {},
     "output_type": "display_data"
    }
   ],
   "source": [
    "print(classification_report(y_test,KNC_predictions))\n",
    "\n",
    "lr_cm=confusion_matrix(y_test,KNC_predictions)\n",
    "plt.title(\"KNeighbors Classifier\")\n",
    "sns.heatmap(lr_cm,annot=True,cmap=\"Blues\",fmt=\"d\",cbar=False)"
   ]
  },
  {
   "cell_type": "code",
   "execution_count": 55,
   "id": "59b0b1d5",
   "metadata": {},
   "outputs": [],
   "source": [
    "import pickle\n",
    "with open('KNeighborsClassifier_pickle', 'wb') as f:\n",
    "    pickle.dump(KNC,f)\n",
    "    \n",
    "if __name__=='__main__':\n",
    "    with open('KNeighborsClassifier_pickle', 'rb') as f:\n",
    "        KNC_users = pickle.load(f)"
   ]
  },
  {
   "cell_type": "markdown",
   "id": "fb5a71b3",
   "metadata": {},
   "source": [
    "# Gradient Boosting Classifier "
   ]
  },
  {
   "cell_type": "code",
   "execution_count": 33,
   "id": "7a0f2456",
   "metadata": {},
   "outputs": [
    {
     "name": "stdout",
     "output_type": "stream",
     "text": [
      "The accuracy score achieved using Gradient Boosting Classifier is: 66.99 %\n"
     ]
    }
   ],
   "source": [
    "GBC = GradientBoostingClassifier(n_estimators=20, learning_rate=0.05, max_features=2, max_depth=2, random_state=0)\n",
    "GBC.fit(x_train, y_train)\n",
    "\n",
    "GBC_predictions = GBC.predict(x_test)\n",
    "\n",
    "\n",
    "score_GBC=round(accuracy_score(GBC_predictions,y_test)*100,2)\n",
    "\n",
    "print(\"The accuracy score achieved using Gradient Boosting Classifier is: \"+str(score_GBC)+\" %\")"
   ]
  },
  {
   "cell_type": "code",
   "execution_count": 34,
   "id": "208b5215",
   "metadata": {},
   "outputs": [
    {
     "name": "stdout",
     "output_type": "stream",
     "text": [
      "              precision    recall  f1-score   support\n",
      "\n",
      "           0       0.00      0.00      0.00         1\n",
      "           1       0.00      0.00      0.00         6\n",
      "           2       0.65      0.84      0.73        49\n",
      "           3       0.70      0.60      0.64        47\n",
      "\n",
      "    accuracy                           0.67       103\n",
      "   macro avg       0.34      0.36      0.34       103\n",
      "weighted avg       0.63      0.67      0.64       103\n",
      "\n"
     ]
    },
    {
     "name": "stderr",
     "output_type": "stream",
     "text": [
      "C:\\Users\\yashs\\anaconda3\\envs\\project\\lib\\site-packages\\sklearn\\metrics\\_classification.py:1221: UndefinedMetricWarning: Precision and F-score are ill-defined and being set to 0.0 in labels with no predicted samples. Use `zero_division` parameter to control this behavior.\n",
      "  _warn_prf(average, modifier, msg_start, len(result))\n"
     ]
    },
    {
     "data": {
      "text/plain": [
       "<AxesSubplot: title={'center': 'Gradient Boosting Classifier'}>"
      ]
     },
     "execution_count": 34,
     "metadata": {},
     "output_type": "execute_result"
    },
    {
     "data": {
      "image/png": "[encoded data removed]",
      "text/plain": [
       "<Figure size 640x480 with 1 Axes>"
      ]
     },
     "metadata": {},
     "output_type": "display_data"
    }
   ],
   "source": [
    "print(classification_report(y_test,GBC_predictions))\n",
    "\n",
    "lr_cm=confusion_matrix(y_test,GBC_predictions)\n",
    "plt.title(\"Gradient Boosting Classifier\")\n",
    "sns.heatmap(lr_cm,annot=True,cmap=\"Blues\",fmt=\"d\",cbar=False)"
   ]
  },
  {
   "cell_type": "markdown",
   "id": "6124c906",
   "metadata": {},
   "source": [
    "# ExtraTrees Classifier"
   ]
  },
  {
   "cell_type": "code",
   "execution_count": 35,
   "id": "fecfc006",
   "metadata": {},
   "outputs": [
    {
     "name": "stdout",
     "output_type": "stream",
     "text": [
      "The accuracy score achieved using ExtraTrees Classifier is: 99.03 %\n"
     ]
    }
   ],
   "source": [
    "ETC = ExtraTreesClassifier(n_estimators=100, random_state=0)\n",
    "ETC.fit(x_train, y_train)\n",
    "\n",
    "ETC_predictions = ETC.predict(x_test)\n",
    "\n",
    "\n",
    "score_ETC=round(accuracy_score(ETC_predictions,y_test)*100,2)\n",
    "\n",
    "print(\"The accuracy score achieved using ExtraTrees Classifier is: \"+str(score_ETC)+\" %\")"
   ]
  },
  {
   "cell_type": "code",
   "execution_count": 36,
   "id": "da343034",
   "metadata": {},
   "outputs": [
    {
     "name": "stdout",
     "output_type": "stream",
     "text": [
      "              precision    recall  f1-score   support\n",
      "\n",
      "           0       1.00      1.00      1.00         1\n",
      "           1       1.00      1.00      1.00         6\n",
      "           2       0.98      1.00      0.99        49\n",
      "           3       1.00      0.98      0.99        47\n",
      "\n",
      "    accuracy                           0.99       103\n",
      "   macro avg       0.99      0.99      0.99       103\n",
      "weighted avg       0.99      0.99      0.99       103\n",
      "\n"
     ]
    },
    {
     "data": {
      "text/plain": [
       "<AxesSubplot: title={'center': 'ExtraTrees Classifier'}>"
      ]
     },
     "execution_count": 36,
     "metadata": {},
     "output_type": "execute_result"
    },
    {
     "data": {
      "image/png": "[encoded data removed]",
      "text/plain": [
       "<Figure size 640x480 with 1 Axes>"
      ]
     },
     "metadata": {},
     "output_type": "display_data"
    }
   ],
   "source": [
    "print(classification_report(y_test,ETC_predictions))\n",
    "\n",
    "lr_cm=confusion_matrix(y_test,ETC_predictions)\n",
    "plt.title(\"ExtraTrees Classifier\")\n",
    "sns.heatmap(lr_cm,annot=True,cmap=\"Blues\",fmt=\"d\",cbar=False)"
   ]
  },
  {
   "cell_type": "code",
   "execution_count": 54,
   "id": "bd7f083d",
   "metadata": {},
   "outputs": [],
   "source": [
    "import pickle\n",
    "with open('ExtraTreesClassifier_pickle', 'wb') as f:\n",
    "    pickle.dump(ETC,f)\n",
    "    \n",
    "if __name__=='__main__':\n",
    "    with open('ExtraTreesClassifier_pickle', 'rb') as f:\n",
    "        etc_users = pickle.load(f)"
   ]
  },
  {
   "cell_type": "markdown",
   "id": "ce50c261",
   "metadata": {},
   "source": [
    "# Kmeans"
   ]
  },
  {
   "cell_type": "code",
   "execution_count": 37,
   "id": "60a6a2f3",
   "metadata": {},
   "outputs": [
    {
     "data": {
      "text/plain": [
       "Text(0.5, 1.0, 'Elbow Curve to find optimum K')"
      ]
     },
     "execution_count": 37,
     "metadata": {},
     "output_type": "execute_result"
    },
    {
     "data": {
      "image/png": "[encoded data removed]",
      "text/plain": [
       "<Figure size 1000x500 with 1 Axes>"
      ]
     },
     "metadata": {},
     "output_type": "display_data"
    }
   ],
   "source": [
    "k = list(range(2,11))\n",
    "sum_of_squared_distances = []\n",
    "for i in k:\n",
    "    kmeans = KMeans(n_clusters=i)\n",
    "    kmeans.fit(x_train)\n",
    "    sum_of_squared_distances.append(kmeans.inertia_)\n",
    "\n",
    "plt.figure(figsize=(10, 5))\n",
    "plt.plot(k, sum_of_squared_distances, 'go--')\n",
    "plt.xlabel('Number of Clusters')\n",
    "plt.ylabel('Within Cluster Sum of squares')\n",
    "plt.title('Elbow Curve to find optimum K')"
   ]
  },
  {
   "cell_type": "code",
   "execution_count": 38,
   "id": "cf4b58f7",
   "metadata": {},
   "outputs": [],
   "source": [
    "from sklearn import preprocessing\n",
    "\n",
    "X_train_norm = preprocessing.normalize(x_train)\n",
    "X_test_norm = preprocessing.normalize(x_test)"
   ]
  },
  {
   "cell_type": "code",
   "execution_count": 39,
   "id": "e299d2e0",
   "metadata": {},
   "outputs": [
    {
     "data": {
      "text/plain": [
       "KMeans(n_clusters=3, random_state=0)"
      ]
     },
     "execution_count": 39,
     "metadata": {},
     "output_type": "execute_result"
    }
   ],
   "source": [
    "kmeans = KMeans(n_clusters = 3, init = 'k-means++', max_iter = 300, n_init = 10, random_state = 0)\n",
    "kmeans.fit(X_train_norm)"
   ]
  },
  {
   "cell_type": "code",
   "execution_count": 40,
   "id": "a125ca28",
   "metadata": {},
   "outputs": [
    {
     "data": {
      "text/plain": [
       "array([2, 2, 0, 2, 1, 2, 1, 0, 2, 1, 1, 2, 2, 1, 1, 1, 0, 1, 1, 2, 0, 1,\n",
       "       0, 2, 1, 2, 1, 1, 1, 2, 0, 1, 1, 2, 2, 0, 0, 2, 1, 1, 1, 2, 0, 0,\n",
       "       1, 1, 1, 2, 2, 1, 2, 2, 2, 1, 1, 1, 1, 2, 2, 1, 2, 1, 2, 2, 1, 2,\n",
       "       2, 1, 1, 0, 1, 0, 1, 2, 1, 1, 2, 1, 1, 2, 2, 1, 1, 1, 1, 1, 1, 0,\n",
       "       2, 2, 2, 1, 2, 1, 1, 1, 1, 2, 1, 2, 0, 1, 0])"
      ]
     },
     "execution_count": 40,
     "metadata": {},
     "output_type": "execute_result"
    }
   ],
   "source": [
    "#Calculate which mushrooms fall into which clusters\n",
    "clusters = kmeans.predict(X_test_norm)\n",
    "clusters"
   ]
  },
  {
   "cell_type": "code",
   "execution_count": 41,
   "id": "243036e2",
   "metadata": {},
   "outputs": [
    {
     "name": "stdout",
     "output_type": "stream",
     "text": [
      "The accuracy score achieved using Kmeans is: 0.508639487816593 %\n"
     ]
    }
   ],
   "source": [
    "from sklearn.metrics import silhouette_score\n",
    "\n",
    "score_kmns = silhouette_score(X_train_norm, kmeans.labels_, metric='euclidean')\n",
    "\n",
    "print(\"The accuracy score achieved using Kmeans is: \"+str(score_kmns)+\" %\")"
   ]
  },
  {
   "cell_type": "code",
   "execution_count": null,
   "id": "b93d8cef",
   "metadata": {
    "scrolled": true
   },
   "outputs": [],
   "source": []
  },
  {
   "cell_type": "code",
   "execution_count": null,
   "id": "ac5ebe01",
   "metadata": {},
   "outputs": [],
   "source": []
  },
  {
   "cell_type": "markdown",
   "id": "e9186fa1",
   "metadata": {},
   "source": [
    "# Neural Network"
   ]
  },
  {
   "cell_type": "code",
   "execution_count": 42,
   "id": "cfcb4cdc",
   "metadata": {},
   "outputs": [],
   "source": [
    "x=df.drop(['thal'],axis=1)#independent\n",
    "y=df['thal']#dependent\n",
    "\n",
    "x_train,x_test , y_train, y_test = train_test_split(x, y,test_size=0.1)"
   ]
  },
  {
   "cell_type": "code",
   "execution_count": 43,
   "id": "5f498005",
   "metadata": {},
   "outputs": [],
   "source": [
    "import tensorflow as tf\n",
    "from tensorflow import keras\n",
    "from tensorflow.keras.models import Sequential\n"
   ]
  },
  {
   "cell_type": "code",
   "execution_count": 44,
   "id": "103ce412",
   "metadata": {},
   "outputs": [],
   "source": [
    "import tensorflow as tf\n",
    "from tensorflow import keras\n",
    "model=tf.keras.Sequential([\n",
    "    keras.layers.Dense(20,input_shape=x_train.shape[1:],activation='relu'),\n",
    "    keras.layers.Dense(10,activation='relu'),\n",
    "    keras.layers.Dense(22,activation='sigmoid'),\n",
    "])"
   ]
  },
  {
   "cell_type": "code",
   "execution_count": 45,
   "id": "cbd40f83",
   "metadata": {},
   "outputs": [],
   "source": [
    "model.compile(optimizer='adam',loss='sparse_categorical_crossentropy',metrics=['accuracy'])"
   ]
  },
  {
   "cell_type": "code",
   "execution_count": 46,
   "id": "9172a35f",
   "metadata": {
    "scrolled": true
   },
   "outputs": [
    {
     "name": "stdout",
     "output_type": "stream",
     "text": [
      "Epoch 1/200\n",
      "1/1 [==============================] - 0s 0s/step - loss: 4.9598 - accuracy: 0.0076\n",
      "Epoch 2/200\n",
      "1/1 [==============================] - 0s 997us/step - loss: 4.6226 - accuracy: 0.0076\n",
      "Epoch 3/200\n",
      "1/1 [==============================] - 0s 998us/step - loss: 4.2858 - accuracy: 0.0076\n",
      "Epoch 4/200\n",
      "1/1 [==============================] - 0s 998us/step - loss: 3.9517 - accuracy: 0.0076\n",
      "Epoch 5/200\n",
      "1/1 [==============================] - 0s 1ms/step - loss: 3.6302 - accuracy: 0.0076\n",
      "Epoch 6/200\n",
      "1/1 [==============================] - 0s 0s/step - loss: 3.3358 - accuracy: 0.0076\n",
      "Epoch 7/200\n",
      "1/1 [==============================] - 0s 15ms/step - loss: 3.0846 - accuracy: 0.0076\n",
      "Epoch 8/200\n",
      "1/1 [==============================] - 0s 0s/step - loss: 2.8903 - accuracy: 0.0076\n",
      "Epoch 9/200\n",
      "1/1 [==============================] - 0s 0s/step - loss: 2.7553 - accuracy: 0.0076\n",
      "Epoch 10/200\n",
      "1/1 [==============================] - 0s 0s/step - loss: 2.6709 - accuracy: 0.0076\n",
      "Epoch 11/200\n",
      "1/1 [==============================] - 0s 0s/step - loss: 2.6215 - accuracy: 0.0076\n",
      "Epoch 12/200\n",
      "1/1 [==============================] - 0s 0s/step - loss: 2.5926 - accuracy: 0.0076\n",
      "Epoch 13/200\n",
      "1/1 [==============================] - 0s 0s/step - loss: 2.5748 - accuracy: 0.0076\n",
      "Epoch 14/200\n",
      "1/1 [==============================] - 0s 0s/step - loss: 2.5626 - accuracy: 0.0076\n",
      "Epoch 15/200\n",
      "1/1 [==============================] - 0s 0s/step - loss: 2.5533 - accuracy: 0.0076\n",
      "Epoch 16/200\n",
      "1/1 [==============================] - 0s 0s/step - loss: 2.5456 - accuracy: 0.0076\n",
      "Epoch 17/200\n",
      "1/1 [==============================] - 0s 0s/step - loss: 2.5389 - accuracy: 0.0076\n",
      "Epoch 18/200\n",
      "1/1 [==============================] - 0s 0s/step - loss: 2.5328 - accuracy: 0.0076\n",
      "Epoch 19/200\n",
      "1/1 [==============================] - 0s 1ms/step - loss: 2.5270 - accuracy: 0.0076\n",
      "Epoch 20/200\n",
      "1/1 [==============================] - 0s 0s/step - loss: 2.5215 - accuracy: 0.0076\n",
      "Epoch 21/200\n",
      "1/1 [==============================] - 0s 0s/step - loss: 2.5162 - accuracy: 0.0076\n",
      "Epoch 22/200\n",
      "1/1 [==============================] - 0s 0s/step - loss: 2.5109 - accuracy: 0.0076\n",
      "Epoch 23/200\n",
      "1/1 [==============================] - 0s 0s/step - loss: 2.5057 - accuracy: 0.0076\n",
      "Epoch 24/200\n",
      "1/1 [==============================] - 0s 0s/step - loss: 2.5005 - accuracy: 0.0076\n",
      "Epoch 25/200\n",
      "1/1 [==============================] - 0s 0s/step - loss: 2.4952 - accuracy: 0.0076\n",
      "Epoch 26/200\n",
      "1/1 [==============================] - 0s 0s/step - loss: 2.4899 - accuracy: 0.0076\n",
      "Epoch 27/200\n",
      "1/1 [==============================] - 0s 0s/step - loss: 2.4842 - accuracy: 0.0076\n",
      "Epoch 28/200\n",
      "1/1 [==============================] - 0s 0s/step - loss: 2.4782 - accuracy: 0.0076\n",
      "Epoch 29/200\n",
      "1/1 [==============================] - 0s 0s/step - loss: 2.4718 - accuracy: 0.0076\n",
      "Epoch 30/200\n",
      "1/1 [==============================] - 0s 0s/step - loss: 2.4646 - accuracy: 0.0076\n",
      "Epoch 31/200\n",
      "1/1 [==============================] - 0s 0s/step - loss: 2.4567 - accuracy: 0.0076\n",
      "Epoch 32/200\n",
      "1/1 [==============================] - 0s 0s/step - loss: 2.4479 - accuracy: 0.0076\n",
      "Epoch 33/200\n",
      "1/1 [==============================] - 0s 0s/step - loss: 2.4382 - accuracy: 0.0076\n",
      "Epoch 34/200\n",
      "1/1 [==============================] - 0s 0s/step - loss: 2.4275 - accuracy: 0.0076\n",
      "Epoch 35/200\n",
      "1/1 [==============================] - 0s 0s/step - loss: 2.4161 - accuracy: 0.0076\n",
      "Epoch 36/200\n",
      "1/1 [==============================] - 0s 0s/step - loss: 2.4041 - accuracy: 0.0076\n",
      "Epoch 37/200\n",
      "1/1 [==============================] - 0s 0s/step - loss: 2.3920 - accuracy: 0.0076\n",
      "Epoch 38/200\n",
      "1/1 [==============================] - 0s 0s/step - loss: 2.3800 - accuracy: 0.0076\n",
      "Epoch 39/200\n",
      "1/1 [==============================] - 0s 0s/step - loss: 2.3687 - accuracy: 0.0076\n",
      "Epoch 40/200\n",
      "1/1 [==============================] - 0s 0s/step - loss: 2.3583 - accuracy: 0.0076\n",
      "Epoch 41/200\n",
      "1/1 [==============================] - 0s 0s/step - loss: 2.3487 - accuracy: 0.0076\n",
      "Epoch 42/200\n",
      "1/1 [==============================] - 0s 0s/step - loss: 2.3401 - accuracy: 0.0076\n",
      "Epoch 43/200\n",
      "1/1 [==============================] - 0s 0s/step - loss: 2.3324 - accuracy: 0.0076\n",
      "Epoch 44/200\n",
      "1/1 [==============================] - 0s 16ms/step - loss: 2.3255 - accuracy: 0.0076\n",
      "Epoch 45/200\n",
      "1/1 [==============================] - 0s 0s/step - loss: 2.3194 - accuracy: 0.0076\n",
      "Epoch 46/200\n",
      "1/1 [==============================] - 0s 0s/step - loss: 2.3139 - accuracy: 0.0076\n",
      "Epoch 47/200\n",
      "1/1 [==============================] - 0s 0s/step - loss: 2.3089 - accuracy: 0.0076\n",
      "Epoch 48/200\n",
      "1/1 [==============================] - 0s 389us/step - loss: 2.3043 - accuracy: 0.0076\n",
      "Epoch 49/200\n",
      "1/1 [==============================] - 0s 0s/step - loss: 2.2999 - accuracy: 0.0076\n",
      "Epoch 50/200\n",
      "1/1 [==============================] - 0s 0s/step - loss: 2.2955 - accuracy: 0.0076\n",
      "Epoch 51/200\n",
      "1/1 [==============================] - 0s 0s/step - loss: 2.2910 - accuracy: 0.0076\n",
      "Epoch 52/200\n",
      "1/1 [==============================] - 0s 0s/step - loss: 2.2862 - accuracy: 0.0076\n",
      "Epoch 53/200\n",
      "1/1 [==============================] - 0s 0s/step - loss: 2.2809 - accuracy: 0.0076\n",
      "Epoch 54/200\n",
      "1/1 [==============================] - 0s 0s/step - loss: 2.2749 - accuracy: 0.0076\n",
      "Epoch 55/200\n",
      "1/1 [==============================] - 0s 16ms/step - loss: 2.2680 - accuracy: 0.0076\n",
      "Epoch 56/200\n",
      "1/1 [==============================] - 0s 0s/step - loss: 2.2603 - accuracy: 0.0076\n",
      "Epoch 57/200\n",
      "1/1 [==============================] - 0s 0s/step - loss: 2.2515 - accuracy: 0.0076\n",
      "Epoch 58/200\n",
      "1/1 [==============================] - 0s 0s/step - loss: 2.2418 - accuracy: 0.0076\n",
      "Epoch 59/200\n",
      "1/1 [==============================] - 0s 405us/step - loss: 2.2314 - accuracy: 0.0076\n",
      "Epoch 60/200\n",
      "1/1 [==============================] - 0s 0s/step - loss: 2.2203 - accuracy: 0.0076\n",
      "Epoch 61/200\n",
      "1/1 [==============================] - 0s 0s/step - loss: 2.2091 - accuracy: 0.0076\n",
      "Epoch 62/200\n",
      "1/1 [==============================] - 0s 0s/step - loss: 2.1977 - accuracy: 0.0076\n",
      "Epoch 63/200\n",
      "1/1 [==============================] - 0s 0s/step - loss: 2.1866 - accuracy: 0.0076\n",
      "Epoch 64/200\n",
      "1/1 [==============================] - 0s 0s/step - loss: 2.1755 - accuracy: 0.0076\n",
      "Epoch 65/200\n",
      "1/1 [==============================] - 0s 0s/step - loss: 2.1642 - accuracy: 0.0076\n",
      "Epoch 66/200\n",
      "1/1 [==============================] - 0s 0s/step - loss: 2.1525 - accuracy: 0.0076\n",
      "Epoch 67/200\n",
      "1/1 [==============================] - 0s 0s/step - loss: 2.1402 - accuracy: 0.0076\n",
      "Epoch 68/200\n",
      "1/1 [==============================] - 0s 0s/step - loss: 2.1273 - accuracy: 0.0076\n",
      "Epoch 69/200\n",
      "1/1 [==============================] - 0s 0s/step - loss: 2.1142 - accuracy: 0.0076\n",
      "Epoch 70/200\n",
      "1/1 [==============================] - 0s 829us/step - loss: 2.1016 - accuracy: 0.0076\n",
      "Epoch 71/200\n",
      "1/1 [==============================] - 0s 0s/step - loss: 2.0904 - accuracy: 0.0076\n",
      "Epoch 72/200\n",
      "1/1 [==============================] - 0s 0s/step - loss: 2.0814 - accuracy: 0.0076\n",
      "Epoch 73/200\n",
      "1/1 [==============================] - 0s 0s/step - loss: 2.0748 - accuracy: 0.0076\n",
      "Epoch 74/200\n",
      "1/1 [==============================] - 0s 0s/step - loss: 2.0701 - accuracy: 0.0076\n",
      "Epoch 75/200\n",
      "1/1 [==============================] - 0s 0s/step - loss: 2.0670 - accuracy: 0.0076\n",
      "Epoch 76/200\n",
      "1/1 [==============================] - 0s 0s/step - loss: 2.0650 - accuracy: 0.0076\n",
      "Epoch 77/200\n",
      "1/1 [==============================] - 0s 0s/step - loss: 2.0636 - accuracy: 0.0076\n",
      "Epoch 78/200\n",
      "1/1 [==============================] - 0s 0s/step - loss: 2.0626 - accuracy: 0.0076\n",
      "Epoch 79/200\n",
      "1/1 [==============================] - 0s 0s/step - loss: 2.0619 - accuracy: 0.0076\n",
      "Epoch 80/200\n",
      "1/1 [==============================] - 0s 0s/step - loss: 2.0612 - accuracy: 0.0076\n",
      "Epoch 81/200\n",
      "1/1 [==============================] - 0s 0s/step - loss: 2.0606 - accuracy: 0.0076\n",
      "Epoch 82/200\n",
      "1/1 [==============================] - 0s 0s/step - loss: 2.0600 - accuracy: 0.0076\n",
      "Epoch 83/200\n",
      "1/1 [==============================] - 0s 0s/step - loss: 2.0593 - accuracy: 0.0076\n",
      "Epoch 84/200\n",
      "1/1 [==============================] - 0s 0s/step - loss: 2.0585 - accuracy: 0.0076\n",
      "Epoch 85/200\n"
     ]
    },
    {
     "name": "stdout",
     "output_type": "stream",
     "text": [
      "1/1 [==============================] - 0s 0s/step - loss: 2.0575 - accuracy: 0.0076\n",
      "Epoch 86/200\n",
      "1/1 [==============================] - 0s 0s/step - loss: 2.0562 - accuracy: 0.0076\n",
      "Epoch 87/200\n",
      "1/1 [==============================] - 0s 0s/step - loss: 2.0546 - accuracy: 0.0076\n",
      "Epoch 88/200\n",
      "1/1 [==============================] - 0s 0s/step - loss: 2.0525 - accuracy: 0.0076\n",
      "Epoch 89/200\n",
      "1/1 [==============================] - 0s 0s/step - loss: 2.0498 - accuracy: 0.0076\n",
      "Epoch 90/200\n",
      "1/1 [==============================] - 0s 0s/step - loss: 2.0464 - accuracy: 0.0076\n",
      "Epoch 91/200\n",
      "1/1 [==============================] - 0s 17ms/step - loss: 2.0422 - accuracy: 0.0076\n",
      "Epoch 92/200\n",
      "1/1 [==============================] - 0s 0s/step - loss: 2.0368 - accuracy: 0.0076\n",
      "Epoch 93/200\n",
      "1/1 [==============================] - 0s 0s/step - loss: 2.0301 - accuracy: 0.0076\n",
      "Epoch 94/200\n",
      "1/1 [==============================] - 0s 0s/step - loss: 2.0220 - accuracy: 0.0076\n",
      "Epoch 95/200\n",
      "1/1 [==============================] - 0s 0s/step - loss: 2.0123 - accuracy: 0.0076\n",
      "Epoch 96/200\n",
      "1/1 [==============================] - 0s 0s/step - loss: 2.0012 - accuracy: 0.0076\n",
      "Epoch 97/200\n",
      "1/1 [==============================] - 0s 0s/step - loss: 1.9889 - accuracy: 0.0076\n",
      "Epoch 98/200\n",
      "1/1 [==============================] - 0s 16ms/step - loss: 1.9761 - accuracy: 0.0076\n",
      "Epoch 99/200\n",
      "1/1 [==============================] - 0s 0s/step - loss: 1.9634 - accuracy: 0.0076\n",
      "Epoch 100/200\n",
      "1/1 [==============================] - 0s 0s/step - loss: 1.9516 - accuracy: 0.0076\n",
      "Epoch 101/200\n",
      "1/1 [==============================] - 0s 0s/step - loss: 1.9415 - accuracy: 0.0076\n",
      "Epoch 102/200\n",
      "1/1 [==============================] - 0s 1ms/step - loss: 1.9335 - accuracy: 0.0076\n",
      "Epoch 103/200\n",
      "1/1 [==============================] - 0s 0s/step - loss: 1.9275 - accuracy: 0.0076\n",
      "Epoch 104/200\n",
      "1/1 [==============================] - 0s 0s/step - loss: 1.9233 - accuracy: 0.0076\n",
      "Epoch 105/200\n",
      "1/1 [==============================] - 0s 0s/step - loss: 1.9204 - accuracy: 0.0076\n",
      "Epoch 106/200\n",
      "1/1 [==============================] - 0s 0s/step - loss: 1.9185 - accuracy: 0.0076\n",
      "Epoch 107/200\n",
      "1/1 [==============================] - 0s 0s/step - loss: 1.9172 - accuracy: 0.0076\n",
      "Epoch 108/200\n",
      "1/1 [==============================] - 0s 0s/step - loss: 1.9164 - accuracy: 0.0076\n",
      "Epoch 109/200\n",
      "1/1 [==============================] - 0s 0s/step - loss: 1.9158 - accuracy: 0.0076\n",
      "Epoch 110/200\n",
      "1/1 [==============================] - 0s 0s/step - loss: 1.9154 - accuracy: 0.0076\n",
      "Epoch 111/200\n",
      "1/1 [==============================] - 0s 0s/step - loss: 1.9151 - accuracy: 0.0076\n",
      "Epoch 112/200\n",
      "1/1 [==============================] - 0s 0s/step - loss: 1.9149 - accuracy: 0.0076\n",
      "Epoch 113/200\n",
      "1/1 [==============================] - 0s 16ms/step - loss: 1.9146 - accuracy: 0.0076\n",
      "Epoch 114/200\n",
      "1/1 [==============================] - 0s 0s/step - loss: 1.9144 - accuracy: 0.0076\n",
      "Epoch 115/200\n",
      "1/1 [==============================] - 0s 0s/step - loss: 1.9141 - accuracy: 0.0076\n",
      "Epoch 116/200\n",
      "1/1 [==============================] - 0s 0s/step - loss: 1.9139 - accuracy: 0.0076\n",
      "Epoch 117/200\n",
      "1/1 [==============================] - 0s 1ms/step - loss: 1.9138 - accuracy: 0.0076\n",
      "Epoch 118/200\n",
      "1/1 [==============================] - 0s 0s/step - loss: 1.9136 - accuracy: 0.0076\n",
      "Epoch 119/200\n",
      "1/1 [==============================] - 0s 0s/step - loss: 1.9135 - accuracy: 0.0076\n",
      "Epoch 120/200\n",
      "1/1 [==============================] - 0s 0s/step - loss: 1.9134 - accuracy: 0.0076\n",
      "Epoch 121/200\n",
      "1/1 [==============================] - 0s 0s/step - loss: 1.9133 - accuracy: 0.0076\n",
      "Epoch 122/200\n",
      "1/1 [==============================] - 0s 0s/step - loss: 1.9132 - accuracy: 0.0076\n",
      "Epoch 123/200\n",
      "1/1 [==============================] - 0s 0s/step - loss: 1.9131 - accuracy: 0.0076\n",
      "Epoch 124/200\n",
      "1/1 [==============================] - 0s 0s/step - loss: 1.9129 - accuracy: 0.0076\n",
      "Epoch 125/200\n",
      "1/1 [==============================] - 0s 997us/step - loss: 1.9128 - accuracy: 0.0076\n",
      "Epoch 126/200\n",
      "1/1 [==============================] - 0s 997us/step - loss: 1.9127 - accuracy: 0.0076\n",
      "Epoch 127/200\n",
      "1/1 [==============================] - 0s 998us/step - loss: 1.9126 - accuracy: 0.0076\n",
      "Epoch 128/200\n",
      "1/1 [==============================] - 0s 2ms/step - loss: 1.9125 - accuracy: 0.0076\n",
      "Epoch 129/200\n",
      "1/1 [==============================] - 0s 997us/step - loss: 1.9124 - accuracy: 0.0076\n",
      "Epoch 130/200\n",
      "1/1 [==============================] - 0s 994us/step - loss: 1.9123 - accuracy: 0.0076\n",
      "Epoch 131/200\n",
      "1/1 [==============================] - 0s 0s/step - loss: 1.9122 - accuracy: 0.0076\n",
      "Epoch 132/200\n",
      "1/1 [==============================] - 0s 0s/step - loss: 1.9121 - accuracy: 0.0076\n",
      "Epoch 133/200\n",
      "1/1 [==============================] - 0s 0s/step - loss: 1.9120 - accuracy: 0.0076\n",
      "Epoch 134/200\n",
      "1/1 [==============================] - 0s 0s/step - loss: 1.9119 - accuracy: 0.0076\n",
      "Epoch 135/200\n",
      "1/1 [==============================] - 0s 0s/step - loss: 1.9118 - accuracy: 0.0076\n",
      "Epoch 136/200\n",
      "1/1 [==============================] - 0s 0s/step - loss: 1.9117 - accuracy: 0.0076\n",
      "Epoch 137/200\n",
      "1/1 [==============================] - 0s 0s/step - loss: 1.9116 - accuracy: 0.0076\n",
      "Epoch 138/200\n",
      "1/1 [==============================] - 0s 0s/step - loss: 1.9115 - accuracy: 0.0076\n",
      "Epoch 139/200\n",
      "1/1 [==============================] - 0s 16ms/step - loss: 1.9114 - accuracy: 0.0076\n",
      "Epoch 140/200\n",
      "1/1 [==============================] - 0s 0s/step - loss: 1.9113 - accuracy: 0.0076\n",
      "Epoch 141/200\n",
      "1/1 [==============================] - 0s 0s/step - loss: 1.9112 - accuracy: 0.0076\n",
      "Epoch 142/200\n",
      "1/1 [==============================] - 0s 0s/step - loss: 1.9111 - accuracy: 0.0076\n",
      "Epoch 143/200\n",
      "1/1 [==============================] - 0s 996us/step - loss: 1.9110 - accuracy: 0.0076\n",
      "Epoch 144/200\n",
      "1/1 [==============================] - 0s 998us/step - loss: 1.9110 - accuracy: 0.0076\n",
      "Epoch 145/200\n",
      "1/1 [==============================] - 0s 998us/step - loss: 1.9109 - accuracy: 0.0076\n",
      "Epoch 146/200\n",
      "1/1 [==============================] - 0s 997us/step - loss: 1.9108 - accuracy: 0.0076\n",
      "Epoch 147/200\n",
      "1/1 [==============================] - 0s 0s/step - loss: 1.9107 - accuracy: 0.0076\n",
      "Epoch 148/200\n",
      "1/1 [==============================] - 0s 0s/step - loss: 1.9106 - accuracy: 0.0076\n",
      "Epoch 149/200\n",
      "1/1 [==============================] - 0s 0s/step - loss: 1.9105 - accuracy: 0.0076\n",
      "Epoch 150/200\n",
      "1/1 [==============================] - 0s 16ms/step - loss: 1.9104 - accuracy: 0.0076\n",
      "Epoch 151/200\n",
      "1/1 [==============================] - 0s 0s/step - loss: 1.9103 - accuracy: 0.0076\n",
      "Epoch 152/200\n",
      "1/1 [==============================] - 0s 0s/step - loss: 1.9102 - accuracy: 0.0076\n",
      "Epoch 153/200\n",
      "1/1 [==============================] - 0s 0s/step - loss: 1.9101 - accuracy: 0.0076\n",
      "Epoch 154/200\n",
      "1/1 [==============================] - 0s 405us/step - loss: 1.9101 - accuracy: 0.0076\n",
      "Epoch 155/200\n",
      "1/1 [==============================] - 0s 0s/step - loss: 1.9100 - accuracy: 0.0076\n",
      "Epoch 156/200\n",
      "1/1 [==============================] - 0s 0s/step - loss: 1.9099 - accuracy: 0.0076\n",
      "Epoch 157/200\n",
      "1/1 [==============================] - 0s 0s/step - loss: 1.9098 - accuracy: 0.0076\n",
      "Epoch 158/200\n",
      "1/1 [==============================] - 0s 0s/step - loss: 1.9097 - accuracy: 0.0076\n",
      "Epoch 159/200\n",
      "1/1 [==============================] - 0s 0s/step - loss: 1.9096 - accuracy: 0.0076\n",
      "Epoch 160/200\n",
      "1/1 [==============================] - 0s 0s/step - loss: 1.9095 - accuracy: 0.0076\n",
      "Epoch 161/200\n",
      "1/1 [==============================] - 0s 0s/step - loss: 1.9094 - accuracy: 0.0076\n",
      "Epoch 162/200\n",
      "1/1 [==============================] - 0s 0s/step - loss: 1.9093 - accuracy: 0.0076\n",
      "Epoch 163/200\n",
      "1/1 [==============================] - 0s 0s/step - loss: 1.9091 - accuracy: 0.0076\n",
      "Epoch 164/200\n",
      "1/1 [==============================] - 0s 0s/step - loss: 1.9090 - accuracy: 0.0076\n",
      "Epoch 165/200\n",
      "1/1 [==============================] - 0s 16ms/step - loss: 1.9088 - accuracy: 0.0076\n",
      "Epoch 166/200\n",
      "1/1 [==============================] - 0s 0s/step - loss: 1.9085 - accuracy: 0.0076\n",
      "Epoch 167/200\n",
      "1/1 [==============================] - 0s 0s/step - loss: 1.9080 - accuracy: 0.0076\n",
      "Epoch 168/200\n"
     ]
    },
    {
     "name": "stdout",
     "output_type": "stream",
     "text": [
      "1/1 [==============================] - 0s 0s/step - loss: 1.9073 - accuracy: 0.0076\n",
      "Epoch 169/200\n",
      "1/1 [==============================] - 0s 0s/step - loss: 1.9063 - accuracy: 0.0076\n",
      "Epoch 170/200\n",
      "1/1 [==============================] - 0s 0s/step - loss: 1.9048 - accuracy: 0.0076\n",
      "Epoch 171/200\n",
      "1/1 [==============================] - 0s 0s/step - loss: 1.9026 - accuracy: 0.0076\n",
      "Epoch 172/200\n",
      "1/1 [==============================] - 0s 1ms/step - loss: 1.8994 - accuracy: 0.0076\n",
      "Epoch 173/200\n",
      "1/1 [==============================] - 0s 0s/step - loss: 1.8949 - accuracy: 0.0076\n",
      "Epoch 174/200\n",
      "1/1 [==============================] - 0s 0s/step - loss: 1.8887 - accuracy: 0.0076\n",
      "Epoch 175/200\n",
      "1/1 [==============================] - 0s 0s/step - loss: 1.8803 - accuracy: 0.0076\n",
      "Epoch 176/200\n",
      "1/1 [==============================] - 0s 0s/step - loss: 1.8696 - accuracy: 0.0076\n",
      "Epoch 177/200\n",
      "1/1 [==============================] - 0s 0s/step - loss: 1.8563 - accuracy: 0.0076\n",
      "Epoch 178/200\n",
      "1/1 [==============================] - 0s 0s/step - loss: 1.8407 - accuracy: 0.0076\n",
      "Epoch 179/200\n",
      "1/1 [==============================] - 0s 0s/step - loss: 1.8234 - accuracy: 0.0076\n",
      "Epoch 180/200\n",
      "1/1 [==============================] - 0s 0s/step - loss: 1.8055 - accuracy: 0.0076\n",
      "Epoch 181/200\n",
      "1/1 [==============================] - 0s 0s/step - loss: 1.7886 - accuracy: 0.0076\n",
      "Epoch 182/200\n",
      "1/1 [==============================] - 0s 0s/step - loss: 1.7741 - accuracy: 0.0076\n",
      "Epoch 183/200\n",
      "1/1 [==============================] - 0s 0s/step - loss: 1.7627 - accuracy: 0.0076\n",
      "Epoch 184/200\n",
      "1/1 [==============================] - 0s 0s/step - loss: 1.7545 - accuracy: 0.0076\n",
      "Epoch 185/200\n",
      "1/1 [==============================] - 0s 0s/step - loss: 1.7489 - accuracy: 0.0076\n",
      "Epoch 186/200\n",
      "1/1 [==============================] - 0s 1ms/step - loss: 1.7453 - accuracy: 0.0076\n",
      "Epoch 187/200\n",
      "1/1 [==============================] - 0s 0s/step - loss: 1.7430 - accuracy: 0.0076\n",
      "Epoch 188/200\n",
      "1/1 [==============================] - 0s 0s/step - loss: 1.7415 - accuracy: 0.0076\n",
      "Epoch 189/200\n",
      "1/1 [==============================] - 0s 0s/step - loss: 1.7406 - accuracy: 0.0076\n",
      "Epoch 190/200\n",
      "1/1 [==============================] - 0s 0s/step - loss: 1.7399 - accuracy: 0.0076\n",
      "Epoch 191/200\n",
      "1/1 [==============================] - 0s 0s/step - loss: 1.7395 - accuracy: 0.0076\n",
      "Epoch 192/200\n",
      "1/1 [==============================] - 0s 0s/step - loss: 1.7392 - accuracy: 0.0076\n",
      "Epoch 193/200\n",
      "1/1 [==============================] - 0s 16ms/step - loss: 1.7390 - accuracy: 0.0076\n",
      "Epoch 194/200\n",
      "1/1 [==============================] - 0s 0s/step - loss: 1.7388 - accuracy: 0.0076\n",
      "Epoch 195/200\n",
      "1/1 [==============================] - 0s 0s/step - loss: 1.7386 - accuracy: 0.0076\n",
      "Epoch 196/200\n",
      "1/1 [==============================] - 0s 0s/step - loss: 1.7385 - accuracy: 0.0076\n",
      "Epoch 197/200\n",
      "1/1 [==============================] - 0s 0s/step - loss: 1.7384 - accuracy: 0.0076\n",
      "Epoch 198/200\n",
      "1/1 [==============================] - 0s 0s/step - loss: 1.7383 - accuracy: 0.0076\n",
      "Epoch 199/200\n",
      "1/1 [==============================] - 0s 0s/step - loss: 1.7382 - accuracy: 0.0076\n",
      "Epoch 200/200\n",
      "1/1 [==============================] - 0s 0s/step - loss: 1.7381 - accuracy: 0.0076\n"
     ]
    },
    {
     "data": {
      "text/plain": [
       "<tensorflow.python.keras.callbacks.History at 0x260ee362b20>"
      ]
     },
     "execution_count": 46,
     "metadata": {},
     "output_type": "execute_result"
    }
   ],
   "source": [
    "model.fit(x_train,y_train,epochs=200, batch_size=1024)"
   ]
  },
  {
   "cell_type": "code",
   "execution_count": 47,
   "id": "b8783e21",
   "metadata": {},
   "outputs": [
    {
     "name": "stdout",
     "output_type": "stream",
     "text": [
      "4/4 [==============================] - 0s 0s/step - loss: 1.7314 - accuracy: 0.0000e+00\n"
     ]
    },
    {
     "data": {
      "text/plain": [
       "[1.7313939332962036, 0.0]"
      ]
     },
     "execution_count": 47,
     "metadata": {},
     "output_type": "execute_result"
    }
   ],
   "source": [
    "model.evaluate(x_test,y_test)"
   ]
  },
  {
   "cell_type": "code",
   "execution_count": 58,
   "id": "dafcb492",
   "metadata": {},
   "outputs": [
    {
     "name": "stdout",
     "output_type": "stream",
     "text": [
      "INFO:tensorflow:Assets written to: NN_heart_reco.hp5\\assets\n"
     ]
    }
   ],
   "source": [
    "model.save('NN_heart_reco.hp5')"
   ]
  },
  {
   "cell_type": "code",
   "execution_count": 49,
   "id": "05b2ca28",
   "metadata": {},
   "outputs": [],
   "source": [
    "pred=model.predict(x_test)"
   ]
  },
  {
   "cell_type": "code",
   "execution_count": 50,
   "id": "3201f465",
   "metadata": {
    "scrolled": true
   },
   "outputs": [
    {
     "data": {
      "text/plain": [
       "[0,\n",
       " 0,\n",
       " 0,\n",
       " 0,\n",
       " 0,\n",
       " 0,\n",
       " 0,\n",
       " 0,\n",
       " 0,\n",
       " 0,\n",
       " 0,\n",
       " 0,\n",
       " 0,\n",
       " 0,\n",
       " 0,\n",
       " 0,\n",
       " 0,\n",
       " 0,\n",
       " 0,\n",
       " 0,\n",
       " 0,\n",
       " 0,\n",
       " 0,\n",
       " 0,\n",
       " 0,\n",
       " 0,\n",
       " 0,\n",
       " 0,\n",
       " 0,\n",
       " 0,\n",
       " 0,\n",
       " 0,\n",
       " 0,\n",
       " 0,\n",
       " 0,\n",
       " 0,\n",
       " 0,\n",
       " 0,\n",
       " 0,\n",
       " 0,\n",
       " 0,\n",
       " 0,\n",
       " 0,\n",
       " 0,\n",
       " 0,\n",
       " 0,\n",
       " 0,\n",
       " 0,\n",
       " 0,\n",
       " 0,\n",
       " 0,\n",
       " 0,\n",
       " 0,\n",
       " 0,\n",
       " 0,\n",
       " 0,\n",
       " 0,\n",
       " 0,\n",
       " 0,\n",
       " 0,\n",
       " 0,\n",
       " 0,\n",
       " 0,\n",
       " 0,\n",
       " 0,\n",
       " 0,\n",
       " 0,\n",
       " 0,\n",
       " 0,\n",
       " 0,\n",
       " 0,\n",
       " 0,\n",
       " 0,\n",
       " 0,\n",
       " 0,\n",
       " 0,\n",
       " 0,\n",
       " 0,\n",
       " 0,\n",
       " 0,\n",
       " 0,\n",
       " 0,\n",
       " 0,\n",
       " 0,\n",
       " 0,\n",
       " 0,\n",
       " 0,\n",
       " 0,\n",
       " 0,\n",
       " 0,\n",
       " 0,\n",
       " 0,\n",
       " 0,\n",
       " 0,\n",
       " 0,\n",
       " 0,\n",
       " 0,\n",
       " 0,\n",
       " 0,\n",
       " 0,\n",
       " 0,\n",
       " 0,\n",
       " 0]"
      ]
     },
     "execution_count": 50,
     "metadata": {},
     "output_type": "execute_result"
    }
   ],
   "source": [
    "y_pred_new=[]\n",
    "for i in pred:\n",
    "#     print(i)\n",
    "    #break\n",
    "    y=np.argmax(i)\n",
    "    #break\n",
    "    #print(y)\n",
    "    y_pred_new.append(y)\n",
    "    #break\n",
    "y_pred_new"
   ]
  },
  {
   "cell_type": "code",
   "execution_count": 53,
   "id": "2050c824",
   "metadata": {
    "scrolled": false
   },
   "outputs": [
    {
     "data": {
      "text/plain": [
       "<AxesSubplot: >"
      ]
     },
     "execution_count": 53,
     "metadata": {},
     "output_type": "execute_result"
    },
    {
     "data": {
      "image/png": "[encoded data removed]",
      "text/plain": [
       "<Figure size 1500x700 with 2 Axes>"
      ]
     },
     "metadata": {},
     "output_type": "display_data"
    }
   ],
   "source": [
    "import matplotlib.pyplot as plt\n",
    "from sklearn import metrics\n",
    "cm=metrics.confusion_matrix(y_test,y_pred_new)\n",
    "import pandas as pd\n",
    "df_cm=pd.DataFrame(cm)\n",
    "import seaborn as sns\n",
    "plt.figure(figsize = (15,7))\n",
    "sns.heatmap(df_cm, annot=True)"
   ]
  },
  {
   "cell_type": "code",
   "execution_count": null,
   "id": "2761bf42",
   "metadata": {
    "scrolled": true
   },
   "outputs": [],
   "source": []
  },
  {
   "cell_type": "code",
   "execution_count": null,
   "id": "1ba67e1c",
   "metadata": {},
   "outputs": [],
   "source": []
  },
  {
   "cell_type": "code",
   "execution_count": null,
   "id": "3aecd7d7",
   "metadata": {},
   "outputs": [],
   "source": []
  },
  {
   "cell_type": "code",
   "execution_count": null,
   "id": "3532ef17",
   "metadata": {},
   "outputs": [],
   "source": []
  },
  {
   "cell_type": "code",
   "execution_count": 59,
   "id": "4ef826c2",
   "metadata": {},
   "outputs": [],
   "source": [
    "with open('RandomForest_pickle', 'rb') as f:\n",
    "    rfc_users = pickle.load(f)"
   ]
  },
  {
   "cell_type": "code",
   "execution_count": null,
   "id": "2f47cd5f",
   "metadata": {},
   "outputs": [],
   "source": [
    "userdict = "
   ]
  }
 ],
 "metadata": {
  "kernelspec": {
   "display_name": "Python 3 (ipykernel)",
   "language": "python",
   "name": "python3"
  },
  "language_info": {
   "codemirror_mode": {
    "name": "ipython",
    "version": 3
   },
   "file_extension": ".py",
   "mimetype": "text/x-python",
   "name": "python",
   "nbconvert_exporter": "python",
   "pygments_lexer": "ipython3",
   "version": "3.8.13"
  }
 },
 "nbformat": 4,
 "nbformat_minor": 5
}
